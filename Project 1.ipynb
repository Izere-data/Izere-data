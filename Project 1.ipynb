{
 "cells": [
  {
   "cell_type": "code",
   "execution_count": 2,
   "id": "30b08900-07c4-4234-b0f6-5d9222e9d8ef",
   "metadata": {},
   "outputs": [
    {
     "name": "stdout",
     "output_type": "stream",
     "text": [
      "Hello world!\n"
     ]
    }
   ],
   "source": [
    "print('Hello world!')"
   ]
  },
  {
   "cell_type": "markdown",
   "id": "431620b3-09ee-4eef-9ece-783f910aa598",
   "metadata": {},
   "source": [
    "### Variables"
   ]
  },
  {
   "cell_type": "code",
   "execution_count": 5,
   "id": "26ce76ce-e576-441c-8e78-377d8657cd99",
   "metadata": {},
   "outputs": [
    {
     "name": "stdout",
     "output_type": "stream",
     "text": [
      "5\n"
     ]
    }
   ],
   "source": [
    "x=5\n",
    "print(x)"
   ]
  },
  {
   "cell_type": "code",
   "execution_count": 7,
   "id": "21b4ac98-48e4-4351-a71f-5f31e1b75d60",
   "metadata": {},
   "outputs": [
    {
     "name": "stdout",
     "output_type": "stream",
     "text": [
      "I love you\n"
     ]
    }
   ],
   "source": [
    "x='I'\n",
    "y=' love'\n",
    "z=' you'\n",
    "print(x+y+z)"
   ]
  },
  {
   "cell_type": "code",
   "execution_count": 10,
   "id": "3e26ac55-2d11-444a-9467-e3e3239552ba",
   "metadata": {},
   "outputs": [
    {
     "name": "stdout",
     "output_type": "stream",
     "text": [
      "('ice cream', 'vanilla', 'chocolate')\n",
      "('ice cream', 'vanilla', 'chocolate')\n"
     ]
    }
   ],
   "source": [
    "A= ('ice cream', 'vanilla', 'chocolate')\n",
    "print(A)\n",
    "print(A)\n"
   ]
  },
  {
   "cell_type": "code",
   "execution_count": 11,
   "id": "983c7cc6-4e9c-4ea3-8ce6-da9e332a861a",
   "metadata": {},
   "outputs": [
    {
     "name": "stdout",
     "output_type": "stream",
     "text": [
      "ice creaam\n",
      "vanilla\n",
      "chocolate\n"
     ]
    }
   ],
   "source": [
    "A= 'ice creaam'\n",
    "B='vanilla'\n",
    "C='chocolate'\n",
    "print(A)\n",
    "print(B)\n",
    "print(C)"
   ]
  },
  {
   "cell_type": "code",
   "execution_count": 14,
   "id": "7258fbae-c027-4e1f-a23a-39e94b61ef41",
   "metadata": {},
   "outputs": [
    {
     "name": "stdout",
     "output_type": "stream",
     "text": [
      "ice creaam, vanilla, chocolate.\n"
     ]
    }
   ],
   "source": [
    "A= 'ice creaam,'\n",
    "B=' vanilla,'\n",
    "C=' chocolate.'\n",
    "D=A+B+C\n",
    "print(D)\n"
   ]
  },
  {
   "cell_type": "code",
   "execution_count": 15,
   "id": "2c1e3b16-e464-4192-bc99-18f2bd2bda9a",
   "metadata": {},
   "outputs": [
    {
     "data": {
      "text/plain": [
       "complex"
      ]
     },
     "execution_count": 15,
     "metadata": {},
     "output_type": "execute_result"
    }
   ],
   "source": [
    "type(1+2j)\n"
   ]
  },
  {
   "cell_type": "code",
   "execution_count": 1,
   "id": "8248ca83-24d6-49a1-9fad-1877ac5bf39a",
   "metadata": {},
   "outputs": [
    {
     "name": "stdout",
     "output_type": "stream",
     "text": [
      "1 Love\n"
     ]
    }
   ],
   "source": [
    "x='Love'\n",
    "y=1\n",
    "print(y,x)"
   ]
  },
  {
   "cell_type": "markdown",
   "id": "442c85f4-9d0d-4141-82f4-8e10a9039ecb",
   "metadata": {},
   "source": [
    "# Let's deal with the dataset"
   ]
  },
  {
   "cell_type": "markdown",
   "id": "49207b42-8aa9-434a-a1ad-575186affe76",
   "metadata": {},
   "source": [
    "#### Here we imports the required packages"
   ]
  },
  {
   "cell_type": "code",
   "execution_count": 1,
   "id": "52a3e1cd-3bdc-472b-a7d2-43c22b0ae6e1",
   "metadata": {},
   "outputs": [],
   "source": [
    "import pandas as pd"
   ]
  },
  {
   "cell_type": "code",
   "execution_count": 2,
   "id": "9f6453f6-965e-440f-bc85-4c59e37f78f6",
   "metadata": {},
   "outputs": [
    {
     "name": "stdout",
     "output_type": "stream",
     "text": [
      "   Unnamed: 0                                     List of Tables\n",
      "0     Table 0  Summary of Seasonal Agricultural Survey main i...\n",
      "1     Table 1                  List of Rwanda Land cover classes\n",
      "2     Table 2                                    List of strata \n",
      "3     Table 3  Population size per district by stratum(Number...\n",
      "4     Table 4  Allocation of sampled segments per district by...\n",
      "..        ...                                                ...\n",
      "62   Table 62  Type of anti-erosion activities, per season an...\n",
      "63   Table 63  Degree of erosion, per season and district in ...\n",
      "64   Table 64  Estimates of total area by major crop at the n...\n",
      "65   Table 65  Estimates of total area by major crop at the n...\n",
      "66   Table 66  Estimates of total area by major crop at the n...\n",
      "\n",
      "[67 rows x 2 columns]\n"
     ]
    }
   ],
   "source": [
    "df = pd.read_excel(\"C:/Users/user/Downloads/SAS 2022_Tables.xlsx\")\n",
    "print(df)\n"
   ]
  },
  {
   "cell_type": "code",
   "execution_count": 59,
   "id": "d5d79a33-7083-4a6d-a2e4-bee0a0141ff2",
   "metadata": {},
   "outputs": [
    {
     "name": "stdout",
     "output_type": "stream",
     "text": [
      "  Unnamed: 0                                     List of Tables\n",
      "0    Table 0  Summary of Seasonal Agricultural Survey main i...\n",
      "1    Table 1                  List of Rwanda Land cover classes\n"
     ]
    }
   ],
   "source": [
    "print(df.head(2))"
   ]
  },
  {
   "cell_type": "code",
   "execution_count": 60,
   "id": "01495b5e-82ec-4555-92ac-52ab39a83bec",
   "metadata": {},
   "outputs": [
    {
     "name": "stdout",
     "output_type": "stream",
     "text": [
      "   Unnamed: 0                                     List of Tables\n",
      "64   Table 64  Estimates of total area by major crop at the n...\n",
      "65   Table 65  Estimates of total area by major crop at the n...\n",
      "66   Table 66  Estimates of total area by major crop at the n...\n"
     ]
    }
   ],
   "source": [
    "print(df.tail(3))"
   ]
  },
  {
   "cell_type": "code",
   "execution_count": 61,
   "id": "5b9bfb85-6374-4534-af16-2ab48e460b58",
   "metadata": {},
   "outputs": [
    {
     "name": "stdout",
     "output_type": "stream",
     "text": [
      "  Unnamed: 0                                     List of Tables\n",
      "0    Table 0  Summary of Seasonal Agricultural Survey main i...\n",
      "1    Table 1                  List of Rwanda Land cover classes\n",
      "2    Table 2                                    List of strata \n",
      "3    Table 3  Population size per district by stratum(Number...\n",
      "4    Table 4  Allocation of sampled segments per district by...\n",
      "5    Table 5                       Source of improved seeds (%)\n",
      "6    Table 6  Percentage of farmers by source of inorganic f...\n",
      "7    Table 7  Main crops Gross Value Added in current prices...\n",
      "8    Table 8  Season A 2022_Agricultural land use per distri...\n"
     ]
    }
   ],
   "source": [
    "print(df.head(9))"
   ]
  },
  {
   "cell_type": "markdown",
   "id": "a9e19027-a0a6-4afb-b2f2-60dcef8ab597",
   "metadata": {},
   "source": [
    " # Let's enter another dataset and do some analysis "
   ]
  },
  {
   "cell_type": "code",
   "execution_count": 78,
   "id": "baf9cb35-eb3c-4158-9ad2-b28b2c8e8ca0",
   "metadata": {},
   "outputs": [
    {
     "name": "stdout",
     "output_type": "stream",
     "text": [
      "         id  gender   age  hypertension  heart_disease ever_married  \\\n",
      "0      9046    Male  67.0             0              1          Yes   \n",
      "1     51676  Female  61.0             0              0          Yes   \n",
      "2     31112    Male  80.0             0              1          Yes   \n",
      "3     60182  Female  49.0             0              0          Yes   \n",
      "4      1665  Female  79.0             1              0          Yes   \n",
      "...     ...     ...   ...           ...            ...          ...   \n",
      "5105  18234  Female  80.0             1              0          Yes   \n",
      "5106  44873  Female  81.0             0              0          Yes   \n",
      "5107  19723  Female  35.0             0              0          Yes   \n",
      "5108  37544    Male  51.0             0              0          Yes   \n",
      "5109  44679  Female  44.0             0              0          Yes   \n",
      "\n",
      "          work_type Residence_type  avg_glucose_level   bmi   smoking_status  \\\n",
      "0           Private          Urban             228.69  36.6  formerly smoked   \n",
      "1     Self-employed          Rural             202.21   NaN     never smoked   \n",
      "2           Private          Rural             105.92  32.5     never smoked   \n",
      "3           Private          Urban             171.23  34.4           smokes   \n",
      "4     Self-employed          Rural             174.12  24.0     never smoked   \n",
      "...             ...            ...                ...   ...              ...   \n",
      "5105        Private          Urban              83.75   NaN     never smoked   \n",
      "5106  Self-employed          Urban             125.20  40.0     never smoked   \n",
      "5107  Self-employed          Rural              82.99  30.6     never smoked   \n",
      "5108        Private          Rural             166.29  25.6  formerly smoked   \n",
      "5109       Govt_job          Urban              85.28  26.2          Unknown   \n",
      "\n",
      "      stroke  \n",
      "0          1  \n",
      "1          1  \n",
      "2          1  \n",
      "3          1  \n",
      "4          1  \n",
      "...      ...  \n",
      "5105       0  \n",
      "5106       0  \n",
      "5107       0  \n",
      "5108       0  \n",
      "5109       0  \n",
      "\n",
      "[5110 rows x 12 columns]\n"
     ]
    }
   ],
   "source": [
    "df= pd.read_csv(\"C:/Users/user/Desktop/healthcare-dataset-stroke-data.csv\")\n",
    "print(df)"
   ]
  },
  {
   "cell_type": "markdown",
   "id": "f83da282-9746-4449-aff7-e7643089c581",
   "metadata": {},
   "source": [
    "## Let print  columns of id, gender and age from number 15 to 25"
   ]
  },
  {
   "cell_type": "code",
   "execution_count": 79,
   "id": "1b4e456c-04a4-4976-bef1-3b158d5ab256",
   "metadata": {},
   "outputs": [
    {
     "name": "stdout",
     "output_type": "stream",
     "text": [
      "       id  gender   age\n",
      "15  58202  Female  50.0\n",
      "16  56112    Male  64.0\n",
      "17  34120    Male  75.0\n",
      "18  27458  Female  60.0\n",
      "19  25226    Male  57.0\n",
      "20  70630  Female  71.0\n",
      "21  13861  Female  52.0\n",
      "22  68794  Female  79.0\n",
      "23  64778    Male  82.0\n",
      "24   4219    Male  71.0\n",
      "25  70822    Male  80.0\n"
     ]
    }
   ],
   "source": [
    "print(df.loc[15:25, [ 'id', 'gender', 'age']])"
   ]
  },
  {
   "cell_type": "markdown",
   "id": "c38f5ec7-edba-4b63-a249-037bb4e475dd",
   "metadata": {},
   "source": [
    "## suppose we want to get the first row"
   ]
  },
  {
   "cell_type": "code",
   "execution_count": 64,
   "id": "0d66ef65-b386-4eb9-8f8b-27cafd63dfd1",
   "metadata": {},
   "outputs": [
    {
     "name": "stdout",
     "output_type": "stream",
     "text": [
      "id                              9046\n",
      "gender                          Male\n",
      "age                             67.0\n",
      "hypertension                       0\n",
      "heart_disease                      1\n",
      "ever_married                     Yes\n",
      "work_type                    Private\n",
      "Residence_type                 Urban\n",
      "avg_glucose_level             228.69\n",
      "bmi                             36.6\n",
      "smoking_status       formerly smoked\n",
      "stroke                             1\n",
      "Name: 0, dtype: object\n"
     ]
    }
   ],
   "source": [
    "print(df.loc[0])"
   ]
  },
  {
   "cell_type": "markdown",
   "id": "dccdbcfb-ec9d-4e5e-bd70-efe3f80de6a5",
   "metadata": {},
   "source": [
    "## we want to get 100th row"
   ]
  },
  {
   "cell_type": "code",
   "execution_count": 65,
   "id": "19d6beb5-7084-4fc7-8767-1c923e036995",
   "metadata": {},
   "outputs": [
    {
     "name": "stdout",
     "output_type": "stream",
     "text": [
      "id                           4639\n",
      "gender                     Female\n",
      "age                          69.0\n",
      "hypertension                    0\n",
      "heart_disease                   0\n",
      "ever_married                  Yes\n",
      "work_type                Govt_job\n",
      "Residence_type              Urban\n",
      "avg_glucose_level           82.81\n",
      "bmi                          28.0\n",
      "smoking_status       never smoked\n",
      "stroke                          1\n",
      "Name: 99, dtype: object\n"
     ]
    }
   ],
   "source": [
    "print(df.loc[99])"
   ]
  },
  {
   "cell_type": "markdown",
   "id": "2987f24d-3c0f-4453-8930-9bf253e91778",
   "metadata": {},
   "source": [
    "## To get the last row"
   ]
  },
  {
   "cell_type": "code",
   "execution_count": 66,
   "id": "3e39b0db-17f5-4605-a697-831345c78aac",
   "metadata": {},
   "outputs": [
    {
     "name": "stdout",
     "output_type": "stream",
     "text": [
      "         id  gender   age  hypertension  heart_disease ever_married work_type  \\\n",
      "5109  44679  Female  44.0             0              0          Yes  Govt_job   \n",
      "\n",
      "     Residence_type  avg_glucose_level   bmi smoking_status  stroke  \n",
      "5109          Urban              85.28  26.2        Unknown       0  \n"
     ]
    }
   ],
   "source": [
    "print(df.tail(n=1))"
   ]
  },
  {
   "cell_type": "markdown",
   "id": "8cfb26c7-6e76-468f-9e4b-fb01b88a9aae",
   "metadata": {},
   "source": [
    "## from number 1 to 5000"
   ]
  },
  {
   "cell_type": "code",
   "execution_count": 67,
   "id": "87558072-8352-4c37-b219-1c747ae1fd76",
   "metadata": {},
   "outputs": [
    {
     "name": "stdout",
     "output_type": "stream",
     "text": [
      "         id  gender   age\n",
      "1     51676  Female  61.0\n",
      "2     31112    Male  80.0\n",
      "3     60182  Female  49.0\n",
      "4      1665  Female  79.0\n",
      "5     56669    Male  81.0\n",
      "...     ...     ...   ...\n",
      "4996   6976  Female  40.0\n",
      "4997  11145  Female   8.0\n",
      "4998  39229  Female  24.0\n",
      "4999  14189    Male  18.0\n",
      "5000  49929    Male  20.0\n",
      "\n",
      "[5000 rows x 3 columns]\n"
     ]
    }
   ],
   "source": [
    "print(df.loc[1:5000, [ 'id', 'gender', 'age']])"
   ]
  },
  {
   "cell_type": "markdown",
   "id": "eb60a82a-99e0-4ebd-a308-89ef64e72f64",
   "metadata": {},
   "source": [
    "## Let's see  id, gender and age on the same plot "
   ]
  },
  {
   "cell_type": "code",
   "execution_count": 68,
   "id": "eb3e16f1-40fb-4c57-8e0d-c59d444ea861",
   "metadata": {},
   "outputs": [],
   "source": [
    "id_gender_age = pd.read_csv(\"C:/Users/user/Desktop/healthcare-dataset-stroke-data.csv\")"
   ]
  },
  {
   "cell_type": "code",
   "execution_count": 69,
   "id": "a5285349-c7b5-4a26-bebd-2a80d52f3ba2",
   "metadata": {},
   "outputs": [],
   "source": [
    "import matplotlib.pyplot as plt"
   ]
  },
  {
   "cell_type": "code",
   "execution_count": 70,
   "id": "bc8999bb-df30-430a-bf63-f9985650bd71",
   "metadata": {},
   "outputs": [
    {
     "data": {
      "image/png": "[encoded data removed]",
      "text/plain": [
       "<Figure size 640x480 with 1 Axes>"
      ]
     },
     "metadata": {},
     "output_type": "display_data"
    }
   ],
   "source": [
    "df=id_gender_age.plot()\n",
    "plt.show()"
   ]
  },
  {
   "cell_type": "code",
   "execution_count": 82,
   "id": "897a80ad-fdcc-4f57-9cdd-332887fbf2d1",
   "metadata": {},
   "outputs": [],
   "source": [
    "import pandas as pd"
   ]
  },
  {
   "cell_type": "code",
   "execution_count": 84,
   "id": "280d8810-090e-443f-b1b7-07c29ca86c6f",
   "metadata": {},
   "outputs": [],
   "source": [
    "import numpy as np"
   ]
  },
  {
   "cell_type": "code",
   "execution_count": 85,
   "id": "4ebed039-f92a-4607-b81c-f7d978d3ffd2",
   "metadata": {},
   "outputs": [
    {
     "name": "stdout",
     "output_type": "stream",
     "text": [
      "       id  gender   age\n",
      "15  58202  Female  50.0\n",
      "16  56112    Male  64.0\n",
      "17  34120    Male  75.0\n",
      "18  27458  Female  60.0\n",
      "19  25226    Male  57.0\n",
      "20  70630  Female  71.0\n",
      "21  13861  Female  52.0\n",
      "22  68794  Female  79.0\n",
      "23  64778    Male  82.0\n",
      "24   4219    Male  71.0\n",
      "25  70822    Male  80.0\n"
     ]
    }
   ],
   "source": [
    "print(df.loc[15:25, [ 'id', 'gender', 'age']])"
   ]
  },
  {
   "cell_type": "markdown",
   "id": "4369aea8-c7a1-478c-b622-5dbff49630b9",
   "metadata": {},
   "source": [
    "#### Mean of the age"
   ]
  },
  {
   "cell_type": "code",
   "execution_count": 87,
   "id": "cde39cbf-ece5-407b-870d-cda94c13db63",
   "metadata": {},
   "outputs": [
    {
     "data": {
      "text/plain": [
       "43.226614481409"
      ]
     },
     "execution_count": 87,
     "metadata": {},
     "output_type": "execute_result"
    }
   ],
   "source": [
    "x= df['age']\n",
    "np.mean(x)"
   ]
  },
  {
   "cell_type": "markdown",
   "id": "499407e7-4243-4c3b-b626-77b360279991",
   "metadata": {},
   "source": [
    "#### Median"
   ]
  },
  {
   "cell_type": "code",
   "execution_count": 88,
   "id": "6cb79ab9-8fcd-4f8d-a212-e48db7231838",
   "metadata": {},
   "outputs": [
    {
     "data": {
      "text/plain": [
       "45.0"
      ]
     },
     "execution_count": 88,
     "metadata": {},
     "output_type": "execute_result"
    }
   ],
   "source": [
    "np.median(x)"
   ]
  },
  {
   "cell_type": "code",
   "execution_count": 94,
   "id": "b04390ae-ac95-4aaf-9d2e-a8646031af9d",
   "metadata": {},
   "outputs": [],
   "source": [
    "import scipy\n",
    "from scipy import stats"
   ]
  },
  {
   "cell_type": "markdown",
   "id": "1fbd3800-34f3-4e0b-a8da-aea1a003cd32",
   "metadata": {},
   "source": [
    "#### Mode"
   ]
  },
  {
   "cell_type": "code",
   "execution_count": 93,
   "id": "c6bfa8b8-293f-42d6-916c-c8882dbc7513",
   "metadata": {},
   "outputs": [
    {
     "name": "stdout",
     "output_type": "stream",
     "text": [
      "ModeResult(mode=78.0, count=102)\n"
     ]
    }
   ],
   "source": [
    "print(stats.mode(x))"
   ]
  },
  {
   "cell_type": "markdown",
   "id": "bb8e522a-3ea8-4960-a357-edfca41f9e12",
   "metadata": {},
   "source": [
    "#### Percentile"
   ]
  },
  {
   "cell_type": "code",
   "execution_count": 96,
   "id": "0367b34e-83af-47d4-b08c-b4f8cbead4db",
   "metadata": {},
   "outputs": [
    {
     "name": "stdout",
     "output_type": "stream",
     "text": [
      "3.0\n"
     ]
    }
   ],
   "source": [
    "a= np.array([1,2,3,4,5])\n",
    "p=np.percentile(a, 50)\n",
    "print(p)"
   ]
  },
  {
   "cell_type": "markdown",
   "id": "8338fc33-c6c6-4474-9695-c366bb3d9c8c",
   "metadata": {},
   "source": [
    "## Let's see how to get plot of given data"
   ]
  },
  {
   "cell_type": "code",
   "execution_count": 98,
   "id": "2a2a0ec0-143f-4a5d-bcf3-4a2182bda227",
   "metadata": {},
   "outputs": [],
   "source": [
    "import matplotlib.pyplot as plt"
   ]
  },
  {
   "cell_type": "code",
   "execution_count": 99,
   "id": "4224b19d-a114-4d89-b720-6deec7fe68b6",
   "metadata": {},
   "outputs": [],
   "source": [
    "a=[1,2,3,4,5]\n",
    "b=[4,7,4,7,3]"
   ]
  },
  {
   "cell_type": "code",
   "execution_count": 100,
   "id": "5a5159dd-0de2-4646-9709-e7eb697e78f5",
   "metadata": {},
   "outputs": [
    {
     "data": {
      "text/plain": [
       "[<matplotlib.lines.Line2D at 0x24678f2ee10>]"
      ]
     },
     "execution_count": 100,
     "metadata": {},
     "output_type": "execute_result"
    },
    {
     "data": {
      "image/png": "[encoded data removed]",
      "text/plain": [
       "<Figure size 640x480 with 1 Axes>"
      ]
     },
     "metadata": {},
     "output_type": "display_data"
    }
   ],
   "source": [
    "plt.plot(a,b)\n"
   ]
  },
  {
   "cell_type": "code",
   "execution_count": null,
   "id": "402832a8-a9a2-454a-9a7c-75ac70ada25b",
   "metadata": {},
   "outputs": [],
   "source": []
  }
 ],
 "metadata": {
  "kernelspec": {
   "display_name": "Python 3 (ipykernel)",
   "language": "python",
   "name": "python3"
  },
  "language_info": {
   "codemirror_mode": {
    "name": "ipython",
    "version": 3
   },
   "file_extension": ".py",
   "mimetype": "text/x-python",
   "name": "python",
   "nbconvert_exporter": "python",
   "pygments_lexer": "ipython3",
   "version": "3.11.7"
  }
 },
 "nbformat": 4,
 "nbformat_minor": 5
}
